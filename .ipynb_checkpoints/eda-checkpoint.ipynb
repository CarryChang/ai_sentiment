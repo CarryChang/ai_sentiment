{
 "cells": [
  {
   "cell_type": "code",
   "execution_count": 1,
   "metadata": {},
   "outputs": [
    {
     "name": "stderr",
     "output_type": "stream",
     "text": [
      "Using TensorFlow backend.\n"
     ]
    }
   ],
   "source": [
    "import pandas as pd\n",
    "import numpy as np\n",
    "\n",
    "import keras\n",
    "from keras.preprocessing.text import Tokenizer\n",
    "from keras.preprocessing.sequence import pad_sequences\n",
    "from keras.models import Sequential\n",
    "from keras.layers import Embedding, Conv1D, Dense, GlobalMaxPooling1D"
   ]
  },
  {
   "cell_type": "code",
   "execution_count": 2,
   "metadata": {},
   "outputs": [
    {
     "name": "stdout",
     "output_type": "stream",
     "text": [
      "105000 15000\n"
     ]
    }
   ],
   "source": [
    "train_data = pd.read_csv('data/train.csv')\n",
    "val_data = pd.read_csv('data/validation.csv')\n",
    "print(len(train_data), len(val_data))"
   ]
  },
  {
   "cell_type": "code",
   "execution_count": 30,
   "metadata": {},
   "outputs": [
    {
     "data": {
      "text/html": [
       "<div>\n",
       "<style scoped>\n",
       "    .dataframe tbody tr th:only-of-type {\n",
       "        vertical-align: middle;\n",
       "    }\n",
       "\n",
       "    .dataframe tbody tr th {\n",
       "        vertical-align: top;\n",
       "    }\n",
       "\n",
       "    .dataframe thead th {\n",
       "        text-align: right;\n",
       "    }\n",
       "</style>\n",
       "<table border=\"1\" class=\"dataframe\">\n",
       "  <thead>\n",
       "    <tr style=\"text-align: right;\">\n",
       "      <th></th>\n",
       "      <th>id</th>\n",
       "      <th>content</th>\n",
       "      <th>location_traffic_convenience</th>\n",
       "      <th>location_distance_from_business_district</th>\n",
       "      <th>location_easy_to_find</th>\n",
       "      <th>service_wait_time</th>\n",
       "      <th>service_waiters_attitude</th>\n",
       "      <th>service_parking_convenience</th>\n",
       "      <th>service_serving_speed</th>\n",
       "      <th>price_level</th>\n",
       "      <th>...</th>\n",
       "      <th>environment_decoration</th>\n",
       "      <th>environment_noise</th>\n",
       "      <th>environment_space</th>\n",
       "      <th>environment_cleaness</th>\n",
       "      <th>dish_portion</th>\n",
       "      <th>dish_taste</th>\n",
       "      <th>dish_look</th>\n",
       "      <th>dish_recommendation</th>\n",
       "      <th>others_overall_experience</th>\n",
       "      <th>others_willing_to_consume_again</th>\n",
       "    </tr>\n",
       "  </thead>\n",
       "  <tbody>\n",
       "    <tr>\n",
       "      <th>0</th>\n",
       "      <td>0</td>\n",
       "      <td>\"吼吼吼，萌死人的棒棒糖，中了大众点评的霸王餐，太可爱了。一直就好奇这个棒棒糖是怎么个东西，...</td>\n",
       "      <td>-2</td>\n",
       "      <td>-2</td>\n",
       "      <td>-2</td>\n",
       "      <td>-2</td>\n",
       "      <td>1</td>\n",
       "      <td>-2</td>\n",
       "      <td>-2</td>\n",
       "      <td>-2</td>\n",
       "      <td>...</td>\n",
       "      <td>-2</td>\n",
       "      <td>-2</td>\n",
       "      <td>-2</td>\n",
       "      <td>-2</td>\n",
       "      <td>-2</td>\n",
       "      <td>-2</td>\n",
       "      <td>1</td>\n",
       "      <td>-2</td>\n",
       "      <td>1</td>\n",
       "      <td>-2</td>\n",
       "    </tr>\n",
       "    <tr>\n",
       "      <th>1</th>\n",
       "      <td>1</td>\n",
       "      <td>\"第三次参加大众点评网霸王餐的活动。这家店给人整体感觉一般。首先环境只能算中等，其次霸王餐提...</td>\n",
       "      <td>-2</td>\n",
       "      <td>-2</td>\n",
       "      <td>-2</td>\n",
       "      <td>-2</td>\n",
       "      <td>-2</td>\n",
       "      <td>-2</td>\n",
       "      <td>-2</td>\n",
       "      <td>0</td>\n",
       "      <td>...</td>\n",
       "      <td>0</td>\n",
       "      <td>0</td>\n",
       "      <td>0</td>\n",
       "      <td>0</td>\n",
       "      <td>1</td>\n",
       "      <td>-2</td>\n",
       "      <td>-2</td>\n",
       "      <td>-2</td>\n",
       "      <td>1</td>\n",
       "      <td>-2</td>\n",
       "    </tr>\n",
       "    <tr>\n",
       "      <th>2</th>\n",
       "      <td>2</td>\n",
       "      <td>\"4人同行 点了10个小吃\\n榴莲酥 榴莲味道不足 松软 奶味浓\\n虾饺 好吃 两颗大虾仁\\...</td>\n",
       "      <td>-2</td>\n",
       "      <td>-2</td>\n",
       "      <td>-2</td>\n",
       "      <td>-2</td>\n",
       "      <td>0</td>\n",
       "      <td>-2</td>\n",
       "      <td>1</td>\n",
       "      <td>0</td>\n",
       "      <td>...</td>\n",
       "      <td>-2</td>\n",
       "      <td>-2</td>\n",
       "      <td>1</td>\n",
       "      <td>-2</td>\n",
       "      <td>0</td>\n",
       "      <td>1</td>\n",
       "      <td>-2</td>\n",
       "      <td>-2</td>\n",
       "      <td>0</td>\n",
       "      <td>-2</td>\n",
       "    </tr>\n",
       "    <tr>\n",
       "      <th>3</th>\n",
       "      <td>3</td>\n",
       "      <td>\"之前评价了莫名其妙被删 果断继续差评！ 换了菜单 价格更低 开始砸牌子 但套餐还是有150...</td>\n",
       "      <td>-2</td>\n",
       "      <td>-2</td>\n",
       "      <td>-2</td>\n",
       "      <td>-2</td>\n",
       "      <td>-2</td>\n",
       "      <td>-2</td>\n",
       "      <td>-2</td>\n",
       "      <td>0</td>\n",
       "      <td>...</td>\n",
       "      <td>-2</td>\n",
       "      <td>-2</td>\n",
       "      <td>-2</td>\n",
       "      <td>-2</td>\n",
       "      <td>-2</td>\n",
       "      <td>-1</td>\n",
       "      <td>-2</td>\n",
       "      <td>-2</td>\n",
       "      <td>-1</td>\n",
       "      <td>-1</td>\n",
       "    </tr>\n",
       "    <tr>\n",
       "      <th>4</th>\n",
       "      <td>4</td>\n",
       "      <td>\"出乎意料地惊艳，椰子鸡清热降火，美容养颜，大大满足了爱吃火锅怕上火星人。椰子冻是帅帅的老板...</td>\n",
       "      <td>-2</td>\n",
       "      <td>-2</td>\n",
       "      <td>-2</td>\n",
       "      <td>-2</td>\n",
       "      <td>-2</td>\n",
       "      <td>-2</td>\n",
       "      <td>-2</td>\n",
       "      <td>-2</td>\n",
       "      <td>...</td>\n",
       "      <td>-2</td>\n",
       "      <td>-2</td>\n",
       "      <td>-2</td>\n",
       "      <td>-2</td>\n",
       "      <td>-2</td>\n",
       "      <td>1</td>\n",
       "      <td>1</td>\n",
       "      <td>-2</td>\n",
       "      <td>1</td>\n",
       "      <td>-2</td>\n",
       "    </tr>\n",
       "  </tbody>\n",
       "</table>\n",
       "<p>5 rows × 22 columns</p>\n",
       "</div>"
      ],
      "text/plain": [
       "   id                                            content  \\\n",
       "0   0  \"吼吼吼，萌死人的棒棒糖，中了大众点评的霸王餐，太可爱了。一直就好奇这个棒棒糖是怎么个东西，...   \n",
       "1   1  \"第三次参加大众点评网霸王餐的活动。这家店给人整体感觉一般。首先环境只能算中等，其次霸王餐提...   \n",
       "2   2  \"4人同行 点了10个小吃\\n榴莲酥 榴莲味道不足 松软 奶味浓\\n虾饺 好吃 两颗大虾仁\\...   \n",
       "3   3  \"之前评价了莫名其妙被删 果断继续差评！ 换了菜单 价格更低 开始砸牌子 但套餐还是有150...   \n",
       "4   4  \"出乎意料地惊艳，椰子鸡清热降火，美容养颜，大大满足了爱吃火锅怕上火星人。椰子冻是帅帅的老板...   \n",
       "\n",
       "   location_traffic_convenience  location_distance_from_business_district  \\\n",
       "0                            -2                                        -2   \n",
       "1                            -2                                        -2   \n",
       "2                            -2                                        -2   \n",
       "3                            -2                                        -2   \n",
       "4                            -2                                        -2   \n",
       "\n",
       "   location_easy_to_find  service_wait_time  service_waiters_attitude  \\\n",
       "0                     -2                 -2                         1   \n",
       "1                     -2                 -2                        -2   \n",
       "2                     -2                 -2                         0   \n",
       "3                     -2                 -2                        -2   \n",
       "4                     -2                 -2                        -2   \n",
       "\n",
       "   service_parking_convenience  service_serving_speed  price_level  \\\n",
       "0                           -2                     -2           -2   \n",
       "1                           -2                     -2            0   \n",
       "2                           -2                      1            0   \n",
       "3                           -2                     -2            0   \n",
       "4                           -2                     -2           -2   \n",
       "\n",
       "                ...                 environment_decoration  environment_noise  \\\n",
       "0               ...                                     -2                 -2   \n",
       "1               ...                                      0                  0   \n",
       "2               ...                                     -2                 -2   \n",
       "3               ...                                     -2                 -2   \n",
       "4               ...                                     -2                 -2   \n",
       "\n",
       "   environment_space  environment_cleaness  dish_portion  dish_taste  \\\n",
       "0                 -2                    -2            -2          -2   \n",
       "1                  0                     0             1          -2   \n",
       "2                  1                    -2             0           1   \n",
       "3                 -2                    -2            -2          -1   \n",
       "4                 -2                    -2            -2           1   \n",
       "\n",
       "   dish_look  dish_recommendation  others_overall_experience  \\\n",
       "0          1                   -2                          1   \n",
       "1         -2                   -2                          1   \n",
       "2         -2                   -2                          0   \n",
       "3         -2                   -2                         -1   \n",
       "4          1                   -2                          1   \n",
       "\n",
       "   others_willing_to_consume_again  \n",
       "0                               -2  \n",
       "1                               -2  \n",
       "2                               -2  \n",
       "3                               -1  \n",
       "4                               -2  \n",
       "\n",
       "[5 rows x 22 columns]"
      ]
     },
     "execution_count": 30,
     "metadata": {},
     "output_type": "execute_result"
    }
   ],
   "source": [
    "train_data.head()"
   ]
  },
  {
   "cell_type": "code",
   "execution_count": 3,
   "metadata": {},
   "outputs": [
    {
     "data": {
      "text/plain": [
       "Index(['location_traffic_convenience',\n",
       "       'location_distance_from_business_district', 'location_easy_to_find',\n",
       "       'service_wait_time', 'service_waiters_attitude',\n",
       "       'service_parking_convenience', 'service_serving_speed', 'price_level',\n",
       "       'price_cost_effective', 'price_discount', 'environment_decoration',\n",
       "       'environment_noise', 'environment_space', 'environment_cleaness',\n",
       "       'dish_portion', 'dish_taste', 'dish_look', 'dish_recommendation',\n",
       "       'others_overall_experience', 'others_willing_to_consume_again'],\n",
       "      dtype='object')"
      ]
     },
     "execution_count": 3,
     "metadata": {},
     "output_type": "execute_result"
    }
   ],
   "source": [
    "train_data.columns[2:]"
   ]
  },
  {
   "cell_type": "markdown",
   "metadata": {},
   "source": [
    "- 位置：3个，location_traffic_convenience, location_distance_from_business_district, location_easy_to_find\n",
    "- 服务：4个，service_wait_time, service_waiters_attitude, service_parking_convenience, service_serving_speed\n",
    "- 价格：3个，price_level, price_cost_effective, price_discount\n",
    "- 环境：4个，environment_decoration, environment_noise, environment_space, environment_cleaness\n",
    "- 菜品：4个，dish_portion, dish_taste, dish_look, dish_recommendation\n",
    "- 其他：2个，others_overall_experience, others_willing_to_consume_again"
   ]
  },
  {
   "cell_type": "code",
   "execution_count": 4,
   "metadata": {},
   "outputs": [],
   "source": [
    "x_train = list(map(lambda x: x[1:-1], train_data['content']))\n",
    "x_val = list(map(lambda x: x[1:-1], val_data['content']))"
   ]
  },
  {
   "cell_type": "code",
   "execution_count": 7,
   "metadata": {},
   "outputs": [],
   "source": [
    "tokenizer = Tokenizer(num_words=10000, char_level=True)\n",
    "tokenizer.fit_on_texts(x_train)"
   ]
  },
  {
   "cell_type": "code",
   "execution_count": 8,
   "metadata": {},
   "outputs": [],
   "source": [
    "sequences = tokenizer.texts_to_sequences(x_train)\n",
    "x_train = pad_sequences(sequences, maxlen=1000)\n",
    "\n",
    "sequences = tokenizer.texts_to_sequences(x_val)\n",
    "x_val = pad_sequences(sequences, maxlen=1000)"
   ]
  },
  {
   "cell_type": "code",
   "execution_count": 5,
   "metadata": {},
   "outputs": [],
   "source": [
    "y_train_ltc = pd.get_dummies(train_data['location_traffic_convenience'])[[-2, -1, 0, 1]].values\n",
    "y_train_ldfbd = pd.get_dummies(train_data['location_distance_from_business_district'])[[-2, -1, 0, 1]].values\n",
    "y_train_letf = pd.get_dummies(train_data['location_easy_to_find'])[[-2, -1, 0, 1]].values\n",
    "\n",
    "y_train_swt = pd.get_dummies(train_data['service_wait_time'])[[-2, -1, 0, 1]].values\n",
    "y_train_swa = pd.get_dummies(train_data['service_waiters_attitude'])[[-2, -1, 0, 1]].values\n",
    "y_train_spc = pd.get_dummies(train_data['service_parking_convenience'])[[-2, -1, 0, 1]].values\n",
    "y_train_sss = pd.get_dummies(train_data['service_serving_speed'])[[-2, -1, 0, 1]].values\n",
    "\n",
    "y_train_pl = pd.get_dummies(train_data['price_level'])[[-2, -1, 0, 1]].values\n",
    "y_train_pce = pd.get_dummies(train_data['price_cost_effective'])[[-2, -1, 0, 1]].values\n",
    "y_train_pd = pd.get_dummies(train_data['price_discount'])[[-2, -1, 0, 1]].values\n",
    "\n",
    "y_train_ed = pd.get_dummies(train_data['environment_decoration'])[[-2, -1, 0, 1]].values\n",
    "y_train_en = pd.get_dummies(train_data['environment_noise'])[[-2, -1, 0, 1]].values\n",
    "y_train_es = pd.get_dummies(train_data['environment_space'])[[-2, -1, 0, 1]].values\n",
    "y_train_ec = pd.get_dummies(train_data['environment_cleaness'])[[-2, -1, 0, 1]].values\n",
    "\n",
    "y_train_dp = pd.get_dummies(train_data['dish_portion'])[[-2, -1, 0, 1]].values\n",
    "y_train_dt = pd.get_dummies(train_data['dish_taste'])[[-2, -1, 0, 1]].values\n",
    "y_train_dl = pd.get_dummies(train_data['dish_look'])[[-2, -1, 0, 1]].values\n",
    "y_train_dr = pd.get_dummies(train_data['dish_recommendation'])[[-2, -1, 0, 1]].values\n",
    "\n",
    "y_train_ooe = pd.get_dummies(train_data['others_overall_experience'])[[-2, -1, 0, 1]].values\n",
    "y_train_owtca = pd.get_dummies(train_data['others_willing_to_consume_again'])[[-2, -1, 0, 1]].values"
   ]
  },
  {
   "cell_type": "code",
   "execution_count": 6,
   "metadata": {},
   "outputs": [],
   "source": [
    "y_val_ltc = pd.get_dummies(val_data['location_traffic_convenience'])[[-2, -1, 0, 1]].values\n",
    "y_val_ldfbd = pd.get_dummies(val_data['location_distance_from_business_district'])[[-2, -1, 0, 1]].values\n",
    "y_val_letf = pd.get_dummies(val_data['location_easy_to_find'])[[-2, -1, 0, 1]].values\n",
    "\n",
    "y_val_swt = pd.get_dummies(val_data['service_wait_time'])[[-2, -1, 0, 1]].values\n",
    "y_val_swa = pd.get_dummies(val_data['service_waiters_attitude'])[[-2, -1, 0, 1]].values\n",
    "y_val_spc = pd.get_dummies(val_data['service_parking_convenience'])[[-2, -1, 0, 1]].values\n",
    "y_val_sss = pd.get_dummies(val_data['service_serving_speed'])[[-2, -1, 0, 1]].values\n",
    "\n",
    "y_val_pl = pd.get_dummies(val_data['price_level'])[[-2, -1, 0, 1]].values\n",
    "y_val_pce = pd.get_dummies(val_data['price_cost_effective'])[[-2, -1, 0, 1]].values\n",
    "y_val_pd = pd.get_dummies(val_data['price_discount'])[[-2, -1, 0, 1]].values\n",
    "\n",
    "y_val_ed = pd.get_dummies(val_data['environment_decoration'])[[-2, -1, 0, 1]].values\n",
    "y_val_en = pd.get_dummies(val_data['environment_noise'])[[-2, -1, 0, 1]].values\n",
    "y_val_es = pd.get_dummies(val_data['environment_space'])[[-2, -1, 0, 1]].values\n",
    "y_val_ec = pd.get_dummies(val_data['environment_cleaness'])[[-2, -1, 0, 1]].values\n",
    "\n",
    "y_val_dp = pd.get_dummies(val_data['dish_portion'])[[-2, -1, 0, 1]].values\n",
    "y_val_dt = pd.get_dummies(val_data['dish_taste'])[[-2, -1, 0, 1]].values\n",
    "y_val_dl = pd.get_dummies(val_data['dish_look'])[[-2, -1, 0, 1]].values\n",
    "y_val_dr = pd.get_dummies(val_data['dish_recommendation'])[[-2, -1, 0, 1]].values\n",
    "\n",
    "y_val_ooe = pd.get_dummies(val_data['others_overall_experience'])[[-2, -1, 0, 1]].values\n",
    "y_val_owtca = pd.get_dummies(val_data['others_willing_to_consume_again'])[[-2, -1, 0, 1]].values"
   ]
  },
  {
   "cell_type": "code",
   "execution_count": 9,
   "metadata": {},
   "outputs": [],
   "source": [
    "def build_model():\n",
    "    model = Sequential()\n",
    "    model.add(Embedding(10000, 128, input_length=1000))\n",
    "    model.add(Conv1D(32, 5, activation='relu'))\n",
    "    model.add(GlobalMaxPooling1D())\n",
    "    model.add(Dense(128, activation='relu'))\n",
    "    model.add(Dense(4, activation='softmax'))\n",
    "    \n",
    "    model.compile(loss='categorical_crossentropy',\n",
    "              optimizer='rmsprop',\n",
    "              metrics=['acc'])\n",
    "    return model"
   ]
  },
  {
   "cell_type": "markdown",
   "metadata": {},
   "source": [
    "#### 位置"
   ]
  },
  {
   "cell_type": "code",
   "execution_count": 10,
   "metadata": {},
   "outputs": [
    {
     "name": "stdout",
     "output_type": "stream",
     "text": [
      "Train on 105000 samples, validate on 15000 samples\n",
      "Epoch 1/5\n",
      "105000/105000 [==============================] - 29s 272us/step - loss: 0.2570 - acc: 0.9269 - val_loss: 0.2043 - val_acc: 0.9404\n",
      "Epoch 2/5\n",
      "105000/105000 [==============================] - 25s 240us/step - loss: 0.2057 - acc: 0.9402 - val_loss: 0.1976 - val_acc: 0.9427\n",
      "Epoch 3/5\n",
      "105000/105000 [==============================] - 25s 241us/step - loss: 0.1948 - acc: 0.9430 - val_loss: 0.1988 - val_acc: 0.9427\n",
      "Epoch 4/5\n",
      "105000/105000 [==============================] - 25s 241us/step - loss: 0.1874 - acc: 0.9438 - val_loss: 0.2125 - val_acc: 0.9410\n",
      "Epoch 5/5\n",
      "105000/105000 [==============================] - 25s 241us/step - loss: 0.1831 - acc: 0.9456 - val_loss: 0.2124 - val_acc: 0.9399\n"
     ]
    },
    {
     "data": {
      "text/plain": [
       "<keras.callbacks.History at 0x22282ef1128>"
      ]
     },
     "execution_count": 10,
     "metadata": {},
     "output_type": "execute_result"
    }
   ],
   "source": [
    "model1 = build_model()\n",
    "model1.fit(x_train, y_train_ltc, epochs=5, batch_size=64, validation_data=(x_val, y_val_ltc))"
   ]
  },
  {
   "cell_type": "code",
   "execution_count": 11,
   "metadata": {},
   "outputs": [
    {
     "name": "stdout",
     "output_type": "stream",
     "text": [
      "Train on 105000 samples, validate on 15000 samples\n",
      "Epoch 1/3\n",
      "105000/105000 [==============================] - 26s 245us/step - loss: 0.3522 - acc: 0.8754 - val_loss: 0.3275 - val_acc: 0.8825\n",
      "Epoch 2/3\n",
      "105000/105000 [==============================] - 25s 240us/step - loss: 0.3111 - acc: 0.8869 - val_loss: 0.3227 - val_acc: 0.8830\n",
      "Epoch 3/3\n",
      "105000/105000 [==============================] - 25s 240us/step - loss: 0.2985 - acc: 0.8903 - val_loss: 0.3236 - val_acc: 0.8821\n"
     ]
    },
    {
     "data": {
      "text/plain": [
       "<keras.callbacks.History at 0x222892b6b38>"
      ]
     },
     "execution_count": 11,
     "metadata": {},
     "output_type": "execute_result"
    }
   ],
   "source": [
    "model1 = build_model()\n",
    "model1.fit(x_train, y_train_ldfbd, epochs=3, batch_size=64, validation_data=(x_val, y_val_ldfbd))"
   ]
  },
  {
   "cell_type": "code",
   "execution_count": 12,
   "metadata": {},
   "outputs": [
    {
     "name": "stdout",
     "output_type": "stream",
     "text": [
      "Train on 105000 samples, validate on 15000 samples\n",
      "Epoch 1/2\n",
      "105000/105000 [==============================] - 26s 249us/step - loss: 0.3761 - acc: 0.8861 - val_loss: 0.3287 - val_acc: 0.9005\n",
      "Epoch 2/2\n",
      "105000/105000 [==============================] - 25s 241us/step - loss: 0.3017 - acc: 0.9062 - val_loss: 0.2994 - val_acc: 0.9097\n"
     ]
    },
    {
     "data": {
      "text/plain": [
       "<keras.callbacks.History at 0x222ca75ccc0>"
      ]
     },
     "execution_count": 12,
     "metadata": {},
     "output_type": "execute_result"
    }
   ],
   "source": [
    "model1 = build_model()\n",
    "model1.fit(x_train, y_train_letf, epochs=2, batch_size=64, validation_data=(x_val, y_val_letf))"
   ]
  },
  {
   "cell_type": "markdown",
   "metadata": {},
   "source": [
    "#### 服务"
   ]
  },
  {
   "cell_type": "code",
   "execution_count": 13,
   "metadata": {},
   "outputs": [
    {
     "name": "stdout",
     "output_type": "stream",
     "text": [
      "Train on 105000 samples, validate on 15000 samples\n",
      "Epoch 1/2\n",
      "105000/105000 [==============================] - 26s 247us/step - loss: 0.3330 - acc: 0.8932 - val_loss: 0.3033 - val_acc: 0.9031\n",
      "Epoch 2/2\n",
      "105000/105000 [==============================] - 25s 242us/step - loss: 0.2895 - acc: 0.9044 - val_loss: 0.2962 - val_acc: 0.9037\n"
     ]
    },
    {
     "data": {
      "text/plain": [
       "<keras.callbacks.History at 0x223aedc4b70>"
      ]
     },
     "execution_count": 13,
     "metadata": {},
     "output_type": "execute_result"
    }
   ],
   "source": [
    "model1 = build_model()\n",
    "model1.fit(x_train, y_train_swt, epochs=2, batch_size=64, validation_data=(x_val, y_val_swt))"
   ]
  },
  {
   "cell_type": "code",
   "execution_count": 14,
   "metadata": {},
   "outputs": [
    {
     "name": "stdout",
     "output_type": "stream",
     "text": [
      "Train on 105000 samples, validate on 15000 samples\n",
      "Epoch 1/2\n",
      "105000/105000 [==============================] - 26s 245us/step - loss: 0.5685 - acc: 0.7879 - val_loss: 0.4806 - val_acc: 0.8171\n",
      "Epoch 2/2\n",
      "105000/105000 [==============================] - 25s 240us/step - loss: 0.4511 - acc: 0.8327 - val_loss: 0.4569 - val_acc: 0.8270\n"
     ]
    },
    {
     "data": {
      "text/plain": [
       "<keras.callbacks.History at 0x223c0d97c18>"
      ]
     },
     "execution_count": 14,
     "metadata": {},
     "output_type": "execute_result"
    }
   ],
   "source": [
    "model1 = build_model()\n",
    "model1.fit(x_train, y_train_swa, epochs=2, batch_size=64, validation_data=(x_val, y_val_swa))"
   ]
  },
  {
   "cell_type": "code",
   "execution_count": 15,
   "metadata": {},
   "outputs": [
    {
     "name": "stdout",
     "output_type": "stream",
     "text": [
      "Train on 105000 samples, validate on 15000 samples\n",
      "Epoch 1/2\n",
      "105000/105000 [==============================] - 26s 246us/step - loss: 0.1157 - acc: 0.9647 - val_loss: 0.0923 - val_acc: 0.9696\n",
      "Epoch 2/2\n",
      "105000/105000 [==============================] - 25s 240us/step - loss: 0.0856 - acc: 0.9730 - val_loss: 0.0834 - val_acc: 0.9725\n"
     ]
    },
    {
     "data": {
      "text/plain": [
       "<keras.callbacks.History at 0x223c12816a0>"
      ]
     },
     "execution_count": 15,
     "metadata": {},
     "output_type": "execute_result"
    }
   ],
   "source": [
    "model1 = build_model()\n",
    "model1.fit(x_train, y_train_spc, epochs=2, batch_size=64, validation_data=(x_val, y_val_spc))"
   ]
  },
  {
   "cell_type": "code",
   "execution_count": 16,
   "metadata": {},
   "outputs": [
    {
     "name": "stdout",
     "output_type": "stream",
     "text": [
      "Train on 105000 samples, validate on 15000 samples\n",
      "Epoch 1/2\n",
      "105000/105000 [==============================] - 26s 247us/step - loss: 0.3026 - acc: 0.9091 - val_loss: 0.2534 - val_acc: 0.9223\n",
      "Epoch 2/2\n",
      "105000/105000 [==============================] - 25s 241us/step - loss: 0.2375 - acc: 0.9257 - val_loss: 0.2563 - val_acc: 0.9226\n"
     ]
    },
    {
     "data": {
      "text/plain": [
       "<keras.callbacks.History at 0x223c272d0b8>"
      ]
     },
     "execution_count": 16,
     "metadata": {},
     "output_type": "execute_result"
    }
   ],
   "source": [
    "model1 = build_model()\n",
    "model1.fit(x_train, y_train_sss, epochs=2, batch_size=64, validation_data=(x_val, y_val_sss))"
   ]
  },
  {
   "cell_type": "markdown",
   "metadata": {},
   "source": [
    "#### 价格"
   ]
  },
  {
   "cell_type": "code",
   "execution_count": 17,
   "metadata": {},
   "outputs": [
    {
     "name": "stdout",
     "output_type": "stream",
     "text": [
      "Train on 105000 samples, validate on 15000 samples\n",
      "Epoch 1/2\n",
      "105000/105000 [==============================] - 26s 249us/step - loss: 0.6910 - acc: 0.7253 - val_loss: 0.5782 - val_acc: 0.7774\n",
      "Epoch 2/2\n",
      "105000/105000 [==============================] - 25s 243us/step - loss: 0.5523 - acc: 0.7868 - val_loss: 0.5835 - val_acc: 0.7706\n"
     ]
    },
    {
     "data": {
      "text/plain": [
       "<keras.callbacks.History at 0x223c3b960f0>"
      ]
     },
     "execution_count": 17,
     "metadata": {},
     "output_type": "execute_result"
    }
   ],
   "source": [
    "model1 = build_model()\n",
    "model1.fit(x_train, y_train_pl, epochs=2, batch_size=64, validation_data=(x_val, y_val_pl))"
   ]
  },
  {
   "cell_type": "code",
   "execution_count": 18,
   "metadata": {},
   "outputs": [
    {
     "name": "stdout",
     "output_type": "stream",
     "text": [
      "Train on 105000 samples, validate on 15000 samples\n",
      "Epoch 1/2\n",
      "105000/105000 [==============================] - 26s 247us/step - loss: 0.3989 - acc: 0.8643 - val_loss: 0.3445 - val_acc: 0.8805\n",
      "Epoch 2/2\n",
      "105000/105000 [==============================] - 25s 242us/step - loss: 0.3352 - acc: 0.8819 - val_loss: 0.3357 - val_acc: 0.8843\n"
     ]
    },
    {
     "data": {
      "text/plain": [
       "<keras.callbacks.History at 0x223c405b630>"
      ]
     },
     "execution_count": 18,
     "metadata": {},
     "output_type": "execute_result"
    }
   ],
   "source": [
    "model1 = build_model()\n",
    "model1.fit(x_train, y_train_pce, epochs=2, batch_size=64, validation_data=(x_val, y_val_pce))"
   ]
  },
  {
   "cell_type": "code",
   "execution_count": 19,
   "metadata": {},
   "outputs": [
    {
     "name": "stdout",
     "output_type": "stream",
     "text": [
      "Train on 105000 samples, validate on 15000 samples\n",
      "Epoch 1/2\n",
      "105000/105000 [==============================] - 26s 247us/step - loss: 0.5115 - acc: 0.8060 - val_loss: 0.4607 - val_acc: 0.8274\n",
      "Epoch 2/2\n",
      "105000/105000 [==============================] - 25s 241us/step - loss: 0.4430 - acc: 0.8327 - val_loss: 0.4457 - val_acc: 0.8317\n"
     ]
    },
    {
     "data": {
      "text/plain": [
       "<keras.callbacks.History at 0x223c54c24a8>"
      ]
     },
     "execution_count": 19,
     "metadata": {},
     "output_type": "execute_result"
    }
   ],
   "source": [
    "model1 = build_model()\n",
    "model1.fit(x_train, y_train_pd, epochs=2, batch_size=64, validation_data=(x_val, y_val_pd))"
   ]
  },
  {
   "cell_type": "markdown",
   "metadata": {},
   "source": [
    "#### 环境"
   ]
  },
  {
   "cell_type": "code",
   "execution_count": 20,
   "metadata": {},
   "outputs": [
    {
     "name": "stdout",
     "output_type": "stream",
     "text": [
      "Train on 105000 samples, validate on 15000 samples\n",
      "Epoch 1/2\n",
      "105000/105000 [==============================] - 26s 248us/step - loss: 0.5559 - acc: 0.8045 - val_loss: 0.5459 - val_acc: 0.8075\n",
      "Epoch 2/2\n",
      "105000/105000 [==============================] - 26s 243us/step - loss: 0.4558 - acc: 0.8402 - val_loss: 0.4587 - val_acc: 0.8402\n"
     ]
    },
    {
     "data": {
      "text/plain": [
       "<keras.callbacks.History at 0x223c5c1cd30>"
      ]
     },
     "execution_count": 20,
     "metadata": {},
     "output_type": "execute_result"
    }
   ],
   "source": [
    "model1 = build_model()\n",
    "model1.fit(x_train, y_train_ed, epochs=2, batch_size=64, validation_data=(x_val, y_val_ed))"
   ]
  },
  {
   "cell_type": "code",
   "execution_count": 21,
   "metadata": {},
   "outputs": [
    {
     "name": "stdout",
     "output_type": "stream",
     "text": [
      "Train on 105000 samples, validate on 15000 samples\n",
      "Epoch 1/2\n",
      "105000/105000 [==============================] - 26s 248us/step - loss: 0.4836 - acc: 0.8307 - val_loss: 0.4259 - val_acc: 0.8479\n",
      "Epoch 2/2\n",
      "105000/105000 [==============================] - 25s 242us/step - loss: 0.4026 - acc: 0.8593 - val_loss: 0.4080 - val_acc: 0.8541\n"
     ]
    },
    {
     "data": {
      "text/plain": [
       "<keras.callbacks.History at 0x223c6e3a668>"
      ]
     },
     "execution_count": 21,
     "metadata": {},
     "output_type": "execute_result"
    }
   ],
   "source": [
    "model1 = build_model()\n",
    "model1.fit(x_train, y_train_en, epochs=2, batch_size=64, validation_data=(x_val, y_val_en))"
   ]
  },
  {
   "cell_type": "code",
   "execution_count": 22,
   "metadata": {},
   "outputs": [
    {
     "name": "stdout",
     "output_type": "stream",
     "text": [
      "Train on 105000 samples, validate on 15000 samples\n",
      "Epoch 1/2\n",
      "105000/105000 [==============================] - 26s 249us/step - loss: 0.6692 - acc: 0.7576 - val_loss: 0.5802 - val_acc: 0.7924\n",
      "Epoch 2/2\n",
      "105000/105000 [==============================] - 26s 244us/step - loss: 0.5216 - acc: 0.8118 - val_loss: 0.5230 - val_acc: 0.8078\n"
     ]
    },
    {
     "data": {
      "text/plain": [
       "<keras.callbacks.History at 0x223c82ed208>"
      ]
     },
     "execution_count": 22,
     "metadata": {},
     "output_type": "execute_result"
    }
   ],
   "source": [
    "model1 = build_model()\n",
    "model1.fit(x_train, y_train_es, epochs=2, batch_size=64, validation_data=(x_val, y_val_es))"
   ]
  },
  {
   "cell_type": "code",
   "execution_count": 23,
   "metadata": {},
   "outputs": [
    {
     "name": "stdout",
     "output_type": "stream",
     "text": [
      "Train on 105000 samples, validate on 15000 samples\n",
      "Epoch 1/2\n",
      "105000/105000 [==============================] - 26s 250us/step - loss: 0.5315 - acc: 0.8190 - val_loss: 0.4541 - val_acc: 0.8495\n",
      "Epoch 2/2\n",
      "105000/105000 [==============================] - 26s 243us/step - loss: 0.4350 - acc: 0.8513 - val_loss: 0.4213 - val_acc: 0.8564\n"
     ]
    },
    {
     "data": {
      "text/plain": [
       "<keras.callbacks.History at 0x223c87c95f8>"
      ]
     },
     "execution_count": 23,
     "metadata": {},
     "output_type": "execute_result"
    }
   ],
   "source": [
    "model1 = build_model()\n",
    "model1.fit(x_train, y_train_ec, epochs=2, batch_size=64, validation_data=(x_val, y_val_ec))"
   ]
  },
  {
   "cell_type": "markdown",
   "metadata": {},
   "source": [
    "#### 菜品"
   ]
  },
  {
   "cell_type": "code",
   "execution_count": 24,
   "metadata": {},
   "outputs": [
    {
     "name": "stdout",
     "output_type": "stream",
     "text": [
      "Train on 105000 samples, validate on 15000 samples\n",
      "Epoch 1/2\n",
      "105000/105000 [==============================] - 27s 259us/step - loss: 0.7264 - acc: 0.7342 - val_loss: 0.6801 - val_acc: 0.7515\n",
      "Epoch 2/2\n",
      "105000/105000 [==============================] - 26s 249us/step - loss: 0.6151 - acc: 0.7728 - val_loss: 0.6534 - val_acc: 0.7567\n"
     ]
    },
    {
     "data": {
      "text/plain": [
       "<keras.callbacks.History at 0x223c9c56b70>"
      ]
     },
     "execution_count": 24,
     "metadata": {},
     "output_type": "execute_result"
    }
   ],
   "source": [
    "model1 = build_model()\n",
    "model1.fit(x_train, y_train_dp, epochs=2, batch_size=64, validation_data=(x_val, y_val_dp))"
   ]
  },
  {
   "cell_type": "code",
   "execution_count": 25,
   "metadata": {},
   "outputs": [
    {
     "name": "stdout",
     "output_type": "stream",
     "text": [
      "Train on 105000 samples, validate on 15000 samples\n",
      "Epoch 1/2\n",
      "105000/105000 [==============================] - 26s 250us/step - loss: 0.6795 - acc: 0.7079 - val_loss: 0.6268 - val_acc: 0.7302\n",
      "Epoch 2/2\n",
      "105000/105000 [==============================] - 26s 244us/step - loss: 0.5651 - acc: 0.7588 - val_loss: 0.5957 - val_acc: 0.7424\n"
     ]
    },
    {
     "data": {
      "text/plain": [
       "<keras.callbacks.History at 0x223ca1476d8>"
      ]
     },
     "execution_count": 25,
     "metadata": {},
     "output_type": "execute_result"
    }
   ],
   "source": [
    "model1 = build_model()\n",
    "model1.fit(x_train, y_train_dt, epochs=2, batch_size=64, validation_data=(x_val, y_val_dt))"
   ]
  },
  {
   "cell_type": "code",
   "execution_count": 26,
   "metadata": {},
   "outputs": [
    {
     "name": "stdout",
     "output_type": "stream",
     "text": [
      "Train on 105000 samples, validate on 15000 samples\n",
      "Epoch 1/2\n",
      "105000/105000 [==============================] - 27s 254us/step - loss: 0.6574 - acc: 0.7733 - val_loss: 0.6069 - val_acc: 0.7865\n",
      "Epoch 2/2\n",
      "105000/105000 [==============================] - 26s 245us/step - loss: 0.5820 - acc: 0.7936 - val_loss: 0.6024 - val_acc: 0.7889\n"
     ]
    },
    {
     "data": {
      "text/plain": [
       "<keras.callbacks.History at 0x223cb5f7320>"
      ]
     },
     "execution_count": 26,
     "metadata": {},
     "output_type": "execute_result"
    }
   ],
   "source": [
    "model1 = build_model()\n",
    "model1.fit(x_train, y_train_dl, epochs=2, batch_size=64, validation_data=(x_val, y_val_dl))"
   ]
  },
  {
   "cell_type": "code",
   "execution_count": 27,
   "metadata": {},
   "outputs": [
    {
     "name": "stdout",
     "output_type": "stream",
     "text": [
      "Train on 105000 samples, validate on 15000 samples\n",
      "Epoch 1/2\n",
      "105000/105000 [==============================] - 27s 260us/step - loss: 0.3902 - acc: 0.8730 - val_loss: 0.3416 - val_acc: 0.8927\n",
      "Epoch 2/2\n",
      "105000/105000 [==============================] - 26s 251us/step - loss: 0.3257 - acc: 0.8940 - val_loss: 0.3315 - val_acc: 0.8937\n"
     ]
    },
    {
     "data": {
      "text/plain": [
       "<keras.callbacks.History at 0x223ccaf50b8>"
      ]
     },
     "execution_count": 27,
     "metadata": {},
     "output_type": "execute_result"
    }
   ],
   "source": [
    "model1 = build_model()\n",
    "model1.fit(x_train, y_train_dr, epochs=2, batch_size=64, validation_data=(x_val, y_val_dr))"
   ]
  },
  {
   "cell_type": "markdown",
   "metadata": {},
   "source": [
    "#### 其他"
   ]
  },
  {
   "cell_type": "code",
   "execution_count": 28,
   "metadata": {},
   "outputs": [
    {
     "name": "stdout",
     "output_type": "stream",
     "text": [
      "Train on 105000 samples, validate on 15000 samples\n",
      "Epoch 1/2\n",
      "105000/105000 [==============================] - 28s 266us/step - loss: 0.6196 - acc: 0.7565 - val_loss: 0.5899 - val_acc: 0.7641\n",
      "Epoch 2/2\n",
      "105000/105000 [==============================] - 27s 253us/step - loss: 0.5365 - acc: 0.7923 - val_loss: 0.6029 - val_acc: 0.7614\n"
     ]
    },
    {
     "data": {
      "text/plain": [
       "<keras.callbacks.History at 0x223cd19acf8>"
      ]
     },
     "execution_count": 28,
     "metadata": {},
     "output_type": "execute_result"
    }
   ],
   "source": [
    "model1 = build_model()\n",
    "model1.fit(x_train, y_train_ooe, epochs=2, batch_size=64, validation_data=(x_val, y_val_ooe))"
   ]
  },
  {
   "cell_type": "code",
   "execution_count": 29,
   "metadata": {},
   "outputs": [
    {
     "name": "stdout",
     "output_type": "stream",
     "text": [
      "Train on 105000 samples, validate on 15000 samples\n",
      "Epoch 1/2\n",
      "105000/105000 [==============================] - 28s 264us/step - loss: 0.5464 - acc: 0.8011 - val_loss: 0.4762 - val_acc: 0.8249\n",
      "Epoch 2/2\n",
      "105000/105000 [==============================] - 27s 253us/step - loss: 0.4524 - acc: 0.8340 - val_loss: 0.4628 - val_acc: 0.8290\n"
     ]
    },
    {
     "data": {
      "text/plain": [
       "<keras.callbacks.History at 0x223ce3c40f0>"
      ]
     },
     "execution_count": 29,
     "metadata": {},
     "output_type": "execute_result"
    }
   ],
   "source": [
    "model1 = build_model()\n",
    "model1.fit(x_train, y_train_owtca, epochs=2, batch_size=64, validation_data=(x_val, y_val_owtca))"
   ]
  },
  {
   "cell_type": "code",
   "execution_count": null,
   "metadata": {},
   "outputs": [],
   "source": []
  }
 ],
 "metadata": {
  "kernelspec": {
   "display_name": "Python 3",
   "language": "python",
   "name": "python3"
  },
  "language_info": {
   "codemirror_mode": {
    "name": "ipython",
    "version": 3
   },
   "file_extension": ".py",
   "mimetype": "text/x-python",
   "name": "python",
   "nbconvert_exporter": "python",
   "pygments_lexer": "ipython3",
   "version": "3.6.6"
  }
 },
 "nbformat": 4,
 "nbformat_minor": 2
}
